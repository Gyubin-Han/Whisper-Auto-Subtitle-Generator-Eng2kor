{
 "cells": [
  {
   "cell_type": "code",
   "execution_count": 5,
   "metadata": {},
   "outputs": [
    {
     "name": "stdout",
     "output_type": "stream",
     "text": [
      "현재 시간 (서울/한국 시간대, YYMMDD 형식): 240319\n"
     ]
    }
   ],
   "source": [
    "import pytz\n",
    "from datetime import datetime, timezone\n",
    "\n",
    "# 사용자의 현재 시간대 정보를 가져옵니다.\n",
    "user_timezone = pytz.timezone('Asia/Seoul')\n",
    "\n",
    "# 현재 시간을 UTC 시간으로 가져옵니다.\n",
    "utc_now = datetime.now(tz=timezone.utc)\n",
    "\n",
    "# 사용자의 시간대로 변환합니다.\n",
    "user_now = utc_now.astimezone(user_timezone)\n",
    "\n",
    "date_string = user_now.strftime('%y%m%d')\n",
    "\n",
    "# 출력\n",
    "print(f\"현재 시간 (서울/한국 시간대, YYMMDD 형식): {date_string}\")"
   ]
  }
 ],
 "metadata": {
  "kernelspec": {
   "display_name": ".venv",
   "language": "python",
   "name": "python3"
  },
  "language_info": {
   "codemirror_mode": {
    "name": "ipython",
    "version": 3
   },
   "file_extension": ".py",
   "mimetype": "text/x-python",
   "name": "python",
   "nbconvert_exporter": "python",
   "pygments_lexer": "ipython3",
   "version": "3.12.2"
  }
 },
 "nbformat": 4,
 "nbformat_minor": 2
}
