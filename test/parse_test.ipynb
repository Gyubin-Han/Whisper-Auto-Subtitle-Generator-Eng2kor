{
 "cells": [
  {
   "cell_type": "code",
   "execution_count": 16,
   "metadata": {},
   "outputs": [
    {
     "name": "stderr",
     "output_type": "stream",
     "text": [
      "51it [01:51,  2.19s/it]\n"
     ]
    },
    {
     "name": "stdout",
     "output_type": "stream",
     "text": [
      "         7301519 function calls (6460005 primitive calls) in 145.486 seconds\n",
      "\n",
      "   Ordered by: cumulative time\n",
      "   List reduced from 1571 to 10 due to restriction <10>\n",
      "\n",
      "   ncalls  tottime  percall  cumtime  percall filename:lineno(function)\n",
      "      2/1    0.000    0.000  141.281  141.281 129193447.py:12(main)\n",
      "      2/1    0.000    0.000  141.281  141.281 parse.py:90(main)\n",
      "        1    0.000    0.000  141.276  141.276 parse.py:25(download_video)\n",
      "        2    0.000    0.000  115.678   57.839 __main__.py:289(streams)\n",
      "        4    0.000    0.000  113.487   28.372 __main__.py:204(check_availability)\n",
      "       51    0.000    0.000  111.813    2.192 model.py:99(translate)\n",
      "       51    0.001    0.000  111.808    2.192 generative_models.py:148(generate_content)\n",
      "       51    0.000    0.000  111.781    2.192 client.py:445(generate_content)\n",
      "       51    0.000    0.000  111.780    2.192 method.py:98(__call__)\n",
      "       51    0.000    0.000  111.778    2.192 retry_unary.py:286(retry_wrapped_func)\n",
      "\n",
      "\n"
     ]
    },
    {
     "data": {
      "text/plain": [
       "<pstats.Stats at 0x7fa4b768c830>"
      ]
     },
     "execution_count": 16,
     "metadata": {},
     "output_type": "execute_result"
    }
   ],
   "source": [
    "import os\n",
    "import sys\n",
    "sys.path.append(os.path.dirname(os.path.abspath(os.path.abspath(''))))\n",
    "\n",
    "import parse\n",
    "\n",
    "from cProfile import Profile\n",
    "from pstats import Stats\n",
    "\n",
    "\n",
    "    \n",
    "def main():\n",
    "    parse.main()\n",
    "\n",
    "    \n",
    "            \n",
    "profiler = Profile()\n",
    "profiler.runcall(main)\n",
    "\n",
    "stats = Stats(profiler)\n",
    "stats.strip_dirs()\n",
    "stats.sort_stats('cumulative') # 누적 통계\n",
    "stats.print_stats(10)\n",
    "stats.print_callers()"
   ]
  }
 ],
 "metadata": {
  "kernelspec": {
   "display_name": ".venv",
   "language": "python",
   "name": "python3"
  },
  "language_info": {
   "codemirror_mode": {
    "name": "ipython",
    "version": 3
   },
   "file_extension": ".py",
   "mimetype": "text/x-python",
   "name": "python",
   "nbconvert_exporter": "python",
   "pygments_lexer": "ipython3",
   "version": "3.12.2"
  }
 },
 "nbformat": 4,
 "nbformat_minor": 2
}
