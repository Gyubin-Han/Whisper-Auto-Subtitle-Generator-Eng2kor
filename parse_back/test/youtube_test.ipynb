{
 "cells": [
  {
   "cell_type": "code",
   "execution_count": 12,
   "metadata": {},
   "outputs": [
    {
     "data": {
      "text/plain": [
       "'/workspace/whisper_auto_subtitle_generator/parse_back/test/./Super Shy.mp4'"
      ]
     },
     "execution_count": 12,
     "metadata": {},
     "output_type": "execute_result"
    }
   ],
   "source": [
    "'''\n",
    "    유튜브 영상이 유효한지에 대한 테스트\n",
    "    \n",
    "    1. 영상 링크가 유효한지 아닌지 -> Regex ... 에러\n",
    "    2. 노래의 경우 -> 성인 컨텐츠 에러 -> AgeStrict ... 에러\n",
    "    \n",
    "    3. 노래의 경우 다운로드가 되지 않게 해야함 #TODO\n",
    "'''\n",
    "\n",
    "\n",
    "from pytube import YouTube\n",
    "from pytube.exceptions import RegexMatchError\n",
    "\n",
    "def download_video(link, save_path):\n",
    "    try:\n",
    "        yt = YouTube(link)\n",
    "        video = yt.streams.filter(progressive=True, file_extension='mp4').order_by('resolution').desc().first().download(output_path=save_path)\n",
    "    except RegexMatchError:\n",
    "        print(\"Youtube link is not vaild.\")\n",
    "        return \n",
    "    \n",
    "    return video\n",
    "\n",
    "# link = \"https://www.youtube.com/watch?v=4FDud9Lj5HY\" # 1 minute speech, is vaild\n",
    "# link = \"https://www.youtube.com/watch?v=PyuhZh6nXEA\" # 3 minute 타비 영상\n",
    "# link = \"https://www.youtube.com/watch?v=QyEsmVRD2ZI\" # 3 minute mad\n",
    "# link = \"https://www.youtube.com/watch?v=4FDudawe41\" # is not vaild\n",
    "\n",
    "# link = \"https://music.youtube.com/watch?v=6Z2oWTvN1v0&list=RDAMVM6Z2oWTvN1v0\" # music 3 minute one song -> age stricted error\n",
    "\n",
    "link = \"https://music.youtube.com/watch?v=n7ePZLn9_lQ&list=RDAMVM6Z2oWTvN1v0\" # music 3 minute super shy -> OK\n",
    "\n",
    "# link = \"https://www.youtube.com/rmoe\" # is not valid 2\n",
    "\n",
    "# link = \"https://www.youtube.com/123\" # is valid but not video\n",
    "download_video(link, '.')"
   ]
  },
  {
   "cell_type": "code",
   "execution_count": 2,
   "metadata": {},
   "outputs": [
    {
     "name": "stdout",
     "output_type": "stream",
     "text": [
      "en\n"
     ]
    }
   ],
   "source": [
    "'''\n",
    "    원본 영상이 영어인가?\n",
    "'''\n",
    "\n",
    "import whisper\n",
    "from pytube import YouTube\n",
    "\n",
    "loaded_model = whisper.load_model(\"medium\") # 9sec    \n",
    "\n",
    "def inference(link, loaded_model, save_path):\n",
    "    yt = YouTube(link)\n",
    "    path = yt.streams.filter(only_audio=True)[0].download(filename=save_path+\"audio.mp3\")\n",
    "    options = dict(task=\"transcribe\", best_of=5)\n",
    "    results = loaded_model.transcribe(path, **options)\n",
    "    lang = results[\"language\"]\n",
    "    return lang\n",
    "\n",
    "\n",
    "# link = \"https://www.youtube.com/watch?v=4FDud9Lj5HY\" # language -> \"en\" 맞음\n",
    "# link = \"https://www.youtube.com/watch?v=1FNYQrVfCE8&list=PLOGi5-fAu8bF-UFrKPmRWUE4hBqfVaiQW\" # -> en 맞음\n",
    "# link = \"https://www.youtube.com/watch?v=bvfueziIDe8\" # language -> \"ko\" 맞음\n",
    "# link = \"https://www.youtube.com/watch?v=sS5vWPNV0ws\" # language -> \"ja\" 맞음 \n",
    "link = \"https://www.youtube.com/watch?v=_c-5PxVWI7Y\" # language -> \"\" 굳이 따지자면 en이긴한데 ko도 섞여있음 \n",
    "lang = inference(link, loaded_model, '.')\n",
    "print(lang)"
   ]
  }
 ],
 "metadata": {
  "kernelspec": {
   "display_name": ".venv",
   "language": "python",
   "name": "python3"
  },
  "language_info": {
   "codemirror_mode": {
    "name": "ipython",
    "version": 3
   },
   "file_extension": ".py",
   "mimetype": "text/x-python",
   "name": "python",
   "nbconvert_exporter": "python",
   "pygments_lexer": "ipython3",
   "version": "3.12.2"
  }
 },
 "nbformat": 4,
 "nbformat_minor": 2
}
