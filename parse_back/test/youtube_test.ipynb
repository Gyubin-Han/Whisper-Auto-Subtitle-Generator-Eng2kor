{
 "cells": [
  {
   "cell_type": "code",
   "execution_count": 11,
   "metadata": {},
   "outputs": [
    {
     "ename": "KeyboardInterrupt",
     "evalue": "",
     "output_type": "error",
     "traceback": [
      "\u001b[0;31m---------------------------------------------------------------------------\u001b[0m",
      "\u001b[0;31mKeyboardInterrupt\u001b[0m                         Traceback (most recent call last)",
      "\u001b[1;32m/workspace/whisper_auto_subtitle_generator/parse_back/test/youtube_test.ipynb 셀 1\u001b[0m line \u001b[0;36m3\n\u001b[1;32m     <a href='vscode-notebook-cell://ssh-remote%2Bwsl_home/workspace/whisper_auto_subtitle_generator/parse_back/test/youtube_test.ipynb#W0sdnNjb2RlLXJlbW90ZQ%3D%3D?line=30'>31</a>\u001b[0m link \u001b[39m=\u001b[39m \u001b[39m\"\u001b[39m\u001b[39mhttps://music.youtube.com/watch?v=n7ePZLn9_lQ&list=RDAMVM6Z2oWTvN1v0\u001b[39m\u001b[39m\"\u001b[39m \u001b[39m# music 3 minute super shy -> OK\u001b[39;00m\n\u001b[1;32m     <a href='vscode-notebook-cell://ssh-remote%2Bwsl_home/workspace/whisper_auto_subtitle_generator/parse_back/test/youtube_test.ipynb#W0sdnNjb2RlLXJlbW90ZQ%3D%3D?line=32'>33</a>\u001b[0m \u001b[39m# link = \"https://www.youtube.com/rmoe\" # is not valid 2\u001b[39;00m\n\u001b[1;32m     <a href='vscode-notebook-cell://ssh-remote%2Bwsl_home/workspace/whisper_auto_subtitle_generator/parse_back/test/youtube_test.ipynb#W0sdnNjb2RlLXJlbW90ZQ%3D%3D?line=33'>34</a>\u001b[0m \n\u001b[1;32m     <a href='vscode-notebook-cell://ssh-remote%2Bwsl_home/workspace/whisper_auto_subtitle_generator/parse_back/test/youtube_test.ipynb#W0sdnNjb2RlLXJlbW90ZQ%3D%3D?line=34'>35</a>\u001b[0m \u001b[39m# link = \"https://www.youtube.com/123\" # is valid but not video\u001b[39;00m\n\u001b[0;32m---> <a href='vscode-notebook-cell://ssh-remote%2Bwsl_home/workspace/whisper_auto_subtitle_generator/parse_back/test/youtube_test.ipynb#W0sdnNjb2RlLXJlbW90ZQ%3D%3D?line=35'>36</a>\u001b[0m download_video(link, \u001b[39m'\u001b[39;49m\u001b[39m.\u001b[39;49m\u001b[39m'\u001b[39;49m)\n",
      "\u001b[1;32m/workspace/whisper_auto_subtitle_generator/parse_back/test/youtube_test.ipynb 셀 1\u001b[0m line \u001b[0;36m1\n\u001b[1;32m     <a href='vscode-notebook-cell://ssh-remote%2Bwsl_home/workspace/whisper_auto_subtitle_generator/parse_back/test/youtube_test.ipynb#W0sdnNjb2RlLXJlbW90ZQ%3D%3D?line=14'>15</a>\u001b[0m \u001b[39mtry\u001b[39;00m:\n\u001b[1;32m     <a href='vscode-notebook-cell://ssh-remote%2Bwsl_home/workspace/whisper_auto_subtitle_generator/parse_back/test/youtube_test.ipynb#W0sdnNjb2RlLXJlbW90ZQ%3D%3D?line=15'>16</a>\u001b[0m     yt \u001b[39m=\u001b[39m YouTube(link)\n\u001b[0;32m---> <a href='vscode-notebook-cell://ssh-remote%2Bwsl_home/workspace/whisper_auto_subtitle_generator/parse_back/test/youtube_test.ipynb#W0sdnNjb2RlLXJlbW90ZQ%3D%3D?line=16'>17</a>\u001b[0m     video \u001b[39m=\u001b[39m yt\u001b[39m.\u001b[39;49mstreams\u001b[39m.\u001b[39mfilter(progressive\u001b[39m=\u001b[39m\u001b[39mTrue\u001b[39;00m, file_extension\u001b[39m=\u001b[39m\u001b[39m'\u001b[39m\u001b[39mmp4\u001b[39m\u001b[39m'\u001b[39m)\u001b[39m.\u001b[39morder_by(\u001b[39m'\u001b[39m\u001b[39mresolution\u001b[39m\u001b[39m'\u001b[39m)\u001b[39m.\u001b[39mdesc()\u001b[39m.\u001b[39mfirst()\u001b[39m.\u001b[39mdownload(output_path\u001b[39m=\u001b[39msave_path)\n\u001b[1;32m     <a href='vscode-notebook-cell://ssh-remote%2Bwsl_home/workspace/whisper_auto_subtitle_generator/parse_back/test/youtube_test.ipynb#W0sdnNjb2RlLXJlbW90ZQ%3D%3D?line=17'>18</a>\u001b[0m \u001b[39mexcept\u001b[39;00m RegexMatchError:\n\u001b[1;32m     <a href='vscode-notebook-cell://ssh-remote%2Bwsl_home/workspace/whisper_auto_subtitle_generator/parse_back/test/youtube_test.ipynb#W0sdnNjb2RlLXJlbW90ZQ%3D%3D?line=18'>19</a>\u001b[0m     \u001b[39mprint\u001b[39m(\u001b[39m\"\u001b[39m\u001b[39mYoutube link is not vaild.\u001b[39m\u001b[39m\"\u001b[39m)\n",
      "File \u001b[0;32m/workspace/whisper_auto_subtitle_generator/parse_back/.venv/lib/python3.12/site-packages/pytube/__main__.py:296\u001b[0m, in \u001b[0;36mYouTube.streams\u001b[0;34m(self)\u001b[0m\n\u001b[1;32m    291\u001b[0m \u001b[39m\u001b[39m\u001b[39m\"\"\"Interface to query both adaptive (DASH) and progressive streams.\u001b[39;00m\n\u001b[1;32m    292\u001b[0m \n\u001b[1;32m    293\u001b[0m \u001b[39m:rtype: :class:`StreamQuery <StreamQuery>`.\u001b[39;00m\n\u001b[1;32m    294\u001b[0m \u001b[39m\"\"\"\u001b[39;00m\n\u001b[1;32m    295\u001b[0m \u001b[39mself\u001b[39m\u001b[39m.\u001b[39mcheck_availability()\n\u001b[0;32m--> 296\u001b[0m \u001b[39mreturn\u001b[39;00m StreamQuery(\u001b[39mself\u001b[39;49m\u001b[39m.\u001b[39;49mfmt_streams)\n",
      "File \u001b[0;32m/workspace/whisper_auto_subtitle_generator/parse_back/.venv/lib/python3.12/site-packages/pytube/__main__.py:181\u001b[0m, in \u001b[0;36mYouTube.fmt_streams\u001b[0;34m(self)\u001b[0m\n\u001b[1;32m    178\u001b[0m \u001b[39m# If the cached js doesn't work, try fetching a new js file\u001b[39;00m\n\u001b[1;32m    179\u001b[0m \u001b[39m# https://github.com/pytube/pytube/issues/1054\u001b[39;00m\n\u001b[1;32m    180\u001b[0m \u001b[39mtry\u001b[39;00m:\n\u001b[0;32m--> 181\u001b[0m     extract\u001b[39m.\u001b[39mapply_signature(stream_manifest, \u001b[39mself\u001b[39m\u001b[39m.\u001b[39mvid_info, \u001b[39mself\u001b[39;49m\u001b[39m.\u001b[39;49mjs)\n\u001b[1;32m    182\u001b[0m \u001b[39mexcept\u001b[39;00m exceptions\u001b[39m.\u001b[39mExtractError:\n\u001b[1;32m    183\u001b[0m     \u001b[39m# To force an update to the js file, we clear the cache and retry\u001b[39;00m\n\u001b[1;32m    184\u001b[0m     \u001b[39mself\u001b[39m\u001b[39m.\u001b[39m_js \u001b[39m=\u001b[39m \u001b[39mNone\u001b[39;00m\n",
      "File \u001b[0;32m/workspace/whisper_auto_subtitle_generator/parse_back/.venv/lib/python3.12/site-packages/pytube/__main__.py:139\u001b[0m, in \u001b[0;36mYouTube.js\u001b[0;34m(self)\u001b[0m\n\u001b[1;32m    136\u001b[0m \u001b[39m# If the js_url doesn't match the cached url, fetch the new js and update\u001b[39;00m\n\u001b[1;32m    137\u001b[0m \u001b[39m#  the cache; otherwise, load the cache.\u001b[39;00m\n\u001b[1;32m    138\u001b[0m \u001b[39mif\u001b[39;00m pytube\u001b[39m.\u001b[39m__js_url__ \u001b[39m!=\u001b[39m \u001b[39mself\u001b[39m\u001b[39m.\u001b[39mjs_url:\n\u001b[0;32m--> 139\u001b[0m     \u001b[39mself\u001b[39m\u001b[39m.\u001b[39m_js \u001b[39m=\u001b[39m request\u001b[39m.\u001b[39;49mget(\u001b[39mself\u001b[39;49m\u001b[39m.\u001b[39;49mjs_url)\n\u001b[1;32m    140\u001b[0m     pytube\u001b[39m.\u001b[39m__js__ \u001b[39m=\u001b[39m \u001b[39mself\u001b[39m\u001b[39m.\u001b[39m_js\n\u001b[1;32m    141\u001b[0m     pytube\u001b[39m.\u001b[39m__js_url__ \u001b[39m=\u001b[39m \u001b[39mself\u001b[39m\u001b[39m.\u001b[39mjs_url\n",
      "File \u001b[0;32m/workspace/whisper_auto_subtitle_generator/parse_back/.venv/lib/python3.12/site-packages/pytube/request.py:54\u001b[0m, in \u001b[0;36mget\u001b[0;34m(url, extra_headers, timeout)\u001b[0m\n\u001b[1;32m     52\u001b[0m     extra_headers \u001b[39m=\u001b[39m {}\n\u001b[1;32m     53\u001b[0m response \u001b[39m=\u001b[39m _execute_request(url, headers\u001b[39m=\u001b[39mextra_headers, timeout\u001b[39m=\u001b[39mtimeout)\n\u001b[0;32m---> 54\u001b[0m \u001b[39mreturn\u001b[39;00m response\u001b[39m.\u001b[39;49mread()\u001b[39m.\u001b[39mdecode(\u001b[39m\"\u001b[39m\u001b[39mutf-8\u001b[39m\u001b[39m\"\u001b[39m)\n",
      "File \u001b[0;32m/usr/lib/python3.12/http/client.py:495\u001b[0m, in \u001b[0;36mHTTPResponse.read\u001b[0;34m(self, amt)\u001b[0m\n\u001b[1;32m    493\u001b[0m \u001b[39melse\u001b[39;00m:\n\u001b[1;32m    494\u001b[0m     \u001b[39mtry\u001b[39;00m:\n\u001b[0;32m--> 495\u001b[0m         s \u001b[39m=\u001b[39m \u001b[39mself\u001b[39;49m\u001b[39m.\u001b[39;49m_safe_read(\u001b[39mself\u001b[39;49m\u001b[39m.\u001b[39;49mlength)\n\u001b[1;32m    496\u001b[0m     \u001b[39mexcept\u001b[39;00m IncompleteRead:\n\u001b[1;32m    497\u001b[0m         \u001b[39mself\u001b[39m\u001b[39m.\u001b[39m_close_conn()\n",
      "File \u001b[0;32m/usr/lib/python3.12/http/client.py:640\u001b[0m, in \u001b[0;36mHTTPResponse._safe_read\u001b[0;34m(self, amt)\u001b[0m\n\u001b[1;32m    633\u001b[0m \u001b[39mdef\u001b[39;00m \u001b[39m_safe_read\u001b[39m(\u001b[39mself\u001b[39m, amt):\n\u001b[1;32m    634\u001b[0m \u001b[39m    \u001b[39m\u001b[39m\"\"\"Read the number of bytes requested.\u001b[39;00m\n\u001b[1;32m    635\u001b[0m \n\u001b[1;32m    636\u001b[0m \u001b[39m    This function should be used when <amt> bytes \"should\" be present for\u001b[39;00m\n\u001b[1;32m    637\u001b[0m \u001b[39m    reading. If the bytes are truly not available (due to EOF), then the\u001b[39;00m\n\u001b[1;32m    638\u001b[0m \u001b[39m    IncompleteRead exception can be used to detect the problem.\u001b[39;00m\n\u001b[1;32m    639\u001b[0m \u001b[39m    \"\"\"\u001b[39;00m\n\u001b[0;32m--> 640\u001b[0m     data \u001b[39m=\u001b[39m \u001b[39mself\u001b[39;49m\u001b[39m.\u001b[39;49mfp\u001b[39m.\u001b[39;49mread(amt)\n\u001b[1;32m    641\u001b[0m     \u001b[39mif\u001b[39;00m \u001b[39mlen\u001b[39m(data) \u001b[39m<\u001b[39m amt:\n\u001b[1;32m    642\u001b[0m         \u001b[39mraise\u001b[39;00m IncompleteRead(data, amt\u001b[39m-\u001b[39m\u001b[39mlen\u001b[39m(data))\n",
      "File \u001b[0;32m/usr/lib/python3.12/socket.py:707\u001b[0m, in \u001b[0;36mSocketIO.readinto\u001b[0;34m(self, b)\u001b[0m\n\u001b[1;32m    705\u001b[0m \u001b[39mwhile\u001b[39;00m \u001b[39mTrue\u001b[39;00m:\n\u001b[1;32m    706\u001b[0m     \u001b[39mtry\u001b[39;00m:\n\u001b[0;32m--> 707\u001b[0m         \u001b[39mreturn\u001b[39;00m \u001b[39mself\u001b[39;49m\u001b[39m.\u001b[39;49m_sock\u001b[39m.\u001b[39;49mrecv_into(b)\n\u001b[1;32m    708\u001b[0m     \u001b[39mexcept\u001b[39;00m timeout:\n\u001b[1;32m    709\u001b[0m         \u001b[39mself\u001b[39m\u001b[39m.\u001b[39m_timeout_occurred \u001b[39m=\u001b[39m \u001b[39mTrue\u001b[39;00m\n",
      "File \u001b[0;32m/usr/lib/python3.12/ssl.py:1252\u001b[0m, in \u001b[0;36mSSLSocket.recv_into\u001b[0;34m(self, buffer, nbytes, flags)\u001b[0m\n\u001b[1;32m   1248\u001b[0m     \u001b[39mif\u001b[39;00m flags \u001b[39m!=\u001b[39m \u001b[39m0\u001b[39m:\n\u001b[1;32m   1249\u001b[0m         \u001b[39mraise\u001b[39;00m \u001b[39mValueError\u001b[39;00m(\n\u001b[1;32m   1250\u001b[0m           \u001b[39m\"\u001b[39m\u001b[39mnon-zero flags not allowed in calls to recv_into() on \u001b[39m\u001b[39m%s\u001b[39;00m\u001b[39m\"\u001b[39m \u001b[39m%\u001b[39m\n\u001b[1;32m   1251\u001b[0m           \u001b[39mself\u001b[39m\u001b[39m.\u001b[39m\u001b[39m__class__\u001b[39m)\n\u001b[0;32m-> 1252\u001b[0m     \u001b[39mreturn\u001b[39;00m \u001b[39mself\u001b[39;49m\u001b[39m.\u001b[39;49mread(nbytes, buffer)\n\u001b[1;32m   1253\u001b[0m \u001b[39melse\u001b[39;00m:\n\u001b[1;32m   1254\u001b[0m     \u001b[39mreturn\u001b[39;00m \u001b[39msuper\u001b[39m()\u001b[39m.\u001b[39mrecv_into(buffer, nbytes, flags)\n",
      "File \u001b[0;32m/usr/lib/python3.12/ssl.py:1104\u001b[0m, in \u001b[0;36mSSLSocket.read\u001b[0;34m(self, len, buffer)\u001b[0m\n\u001b[1;32m   1102\u001b[0m \u001b[39mtry\u001b[39;00m:\n\u001b[1;32m   1103\u001b[0m     \u001b[39mif\u001b[39;00m buffer \u001b[39mis\u001b[39;00m \u001b[39mnot\u001b[39;00m \u001b[39mNone\u001b[39;00m:\n\u001b[0;32m-> 1104\u001b[0m         \u001b[39mreturn\u001b[39;00m \u001b[39mself\u001b[39;49m\u001b[39m.\u001b[39;49m_sslobj\u001b[39m.\u001b[39;49mread(\u001b[39mlen\u001b[39;49m, buffer)\n\u001b[1;32m   1105\u001b[0m     \u001b[39melse\u001b[39;00m:\n\u001b[1;32m   1106\u001b[0m         \u001b[39mreturn\u001b[39;00m \u001b[39mself\u001b[39m\u001b[39m.\u001b[39m_sslobj\u001b[39m.\u001b[39mread(\u001b[39mlen\u001b[39m)\n",
      "\u001b[0;31mKeyboardInterrupt\u001b[0m: "
     ]
    }
   ],
   "source": [
    "'''\n",
    "    유튜브 영상이 유효한지에 대한 테스트\n",
    "    \n",
    "    1. 영상 링크가 유효한지 아닌지 -> Regex ... 에러\n",
    "    2. 노래의 경우 -> 성인 컨텐츠 에러 -> AgeStrict ... 에러\n",
    "    \n",
    "    3. 노래의 경우 다운로드가 되지 않게 해야함 #TODO\n",
    "'''\n",
    "\n",
    "\n",
    "from pytube import YouTube\n",
    "from pytube.exceptions import RegexMatchError, AgeRestrictedError\n",
    "\n",
    "def download_video(link, save_path):\n",
    "    try:\n",
    "        yt = YouTube(link)\n",
    "        video = yt.streams.filter(progressive=True, file_extension='mp4').order_by('resolution').desc().first().download(output_path=save_path)\n",
    "    except RegexMatchError:\n",
    "        print(\"Youtube link is not vaild.\")\n",
    "        return \n",
    "    \n",
    "    return video\n",
    "\n",
    "# link = \"https://www.youtube.com/watch?v=4FDud9Lj5HY\" # 1 minute speech, is vaild\n",
    "# link = \"https://www.youtube.com/watch?v=PyuhZh6nXEA\" # 3 minute 타비 영상\n",
    "# link = \"https://www.youtube.com/watch?v=QyEsmVRD2ZI\" # 3 minute mad\n",
    "# link = \"https://www.youtube.com/watch?v=4FDudawe41\" # is not vaild\n",
    "\n",
    "# link = \"https://music.youtube.com/watch?v=6Z2oWTvN1v0&list=RDAMVM6Z2oWTvN1v0\" # music 3 minute one song -> age stricted error\n",
    "\n",
    "link = \"https://music.youtube.com/watch?v=n7ePZLn9_lQ&list=RDAMVM6Z2oWTvN1v0\" # music 3 minute super shy -> OK\n",
    "\n",
    "# link = \"https://www.youtube.com/rmoe\" # is not valid 2\n",
    "\n",
    "# link = \"https://www.youtube.com/123\" # is valid but not video\n",
    "download_video(link, '.')"
   ]
  },
  {
   "cell_type": "code",
   "execution_count": 2,
   "metadata": {},
   "outputs": [
    {
     "name": "stdout",
     "output_type": "stream",
     "text": [
      "en\n"
     ]
    }
   ],
   "source": [
    "'''\n",
    "    원본 영상이 영어인가?\n",
    "'''\n",
    "\n",
    "import whisper\n",
    "from pytube import YouTube\n",
    "\n",
    "loaded_model = whisper.load_model(\"medium\") # 9sec    \n",
    "\n",
    "def inference(link, loaded_model, save_path):\n",
    "    yt = YouTube(link)\n",
    "    path = yt.streams.filter(only_audio=True)[0].download(filename=save_path+\"audio.mp3\")\n",
    "    options = dict(task=\"transcribe\", best_of=5)\n",
    "    results = loaded_model.transcribe(path, **options)\n",
    "    lang = results[\"language\"]\n",
    "    return lang\n",
    "\n",
    "\n",
    "# link = \"https://www.youtube.com/watch?v=4FDud9Lj5HY\" # language -> \"en\" 맞음\n",
    "# link = \"https://www.youtube.com/watch?v=1FNYQrVfCE8&list=PLOGi5-fAu8bF-UFrKPmRWUE4hBqfVaiQW\" # -> en 맞음\n",
    "# link = \"https://www.youtube.com/watch?v=bvfueziIDe8\" # language -> \"ko\" 맞음\n",
    "# link = \"https://www.youtube.com/watch?v=sS5vWPNV0ws\" # language -> \"ja\" 맞음 \n",
    "link = \"https://www.youtube.com/watch?v=_c-5PxVWI7Y\" # language -> \"\" 굳이 따지자면 en이긴한데 ko도 섞여있음 \n",
    "lang = inference(link, loaded_model, '.')\n",
    "print(lang)"
   ]
  },
  {
   "cell_type": "code",
   "execution_count": 12,
   "metadata": {},
   "outputs": [
    {
     "name": "stdout",
     "output_type": "stream",
     "text": [
      "연령 제한 혹은 지원되지 않는 유튜브 입니다.\n"
     ]
    }
   ],
   "source": [
    "'''\n",
    "    유튜브 영상이 유효한지에 대한 테스트\n",
    "    \n",
    "    1. 영상 링크가 유효한지 아닌지 -> Regex ... 에러\n",
    "    2. 노래의 경우 -> 성인 컨텐츠 에러 -> AgeStrict ... 에러\n",
    "    \n",
    "    3. 노래의 경우 다운로드가 되지 않게 해야함 #TODO\n",
    "'''\n",
    "\n",
    "\n",
    "from pytube import YouTube\n",
    "from pytube.exceptions import RegexMatchError, AgeRestrictedError\n",
    "\n",
    "def download_video(link, save_path):\n",
    "    try:\n",
    "        yt = YouTube(link)\n",
    "        video = yt.streams.filter(only_audio=True)[0].download(filename=save_path+\"audio.mp3\")\n",
    "    except AgeRestrictedError as e:\n",
    "        print(\"연령 제한 혹은 지원되지 않는 유튜브 입니다.\")\n",
    "    \n",
    "    return\n",
    "\n",
    "link = \"https://music.youtube.com/watch?v=6Z2oWTvN1v0&list=RDAMVM6Z2oWTvN1v0\" # music 3 minute one song -> age stricted error\n",
    "\n",
    "download_video(link, '.')"
   ]
  }
 ],
 "metadata": {
  "kernelspec": {
   "display_name": ".venv",
   "language": "python",
   "name": "python3"
  },
  "language_info": {
   "codemirror_mode": {
    "name": "ipython",
    "version": 3
   },
   "file_extension": ".py",
   "mimetype": "text/x-python",
   "name": "python",
   "nbconvert_exporter": "python",
   "pygments_lexer": "ipython3",
   "version": "3.12.2"
  }
 },
 "nbformat": 4,
 "nbformat_minor": 2
}
